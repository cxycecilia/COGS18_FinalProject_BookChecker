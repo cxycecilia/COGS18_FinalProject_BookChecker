{
 "cells": [
  {
   "cell_type": "markdown",
   "metadata": {},
   "source": [
    "# Project Description"
   ]
  },
  {
   "cell_type": "markdown",
   "metadata": {},
   "source": [
    "My final project for COGS18 course is a Bookstore Textbook Checker. In this project, people can first find out the location of the textbook they want to buy by checking the code number of the book and the genre of the book. People can type in the code number or the genre, then the location will be the output. Also, I created a class called MyBook. In this class, there are two methods called print_receipt and check_giftcard. People can print the receipt of the text books, which includes some basic information like name, author and price of the textbooks they want to buy. They can also check whether they can get a gift card. At last, people can calculate the total price of the textbooks they are going to buy, by typing a list of the price as input. This function will also calculate whether people can have a discount under certain circumstances.  "
   ]
  },
  {
   "cell_type": "markdown",
   "metadata": {},
   "source": [
    "## Project Code\n",
    "\n",
    "If it makes sense for your project, you can have code and outputs here in the notebook as well."
   ]
  },
  {
   "cell_type": "code",
   "execution_count": 1,
   "metadata": {},
   "outputs": [],
   "source": [
    "from my_module.functions import check_number, check_genre, check_price\n",
    "from my_module.classes import MyBook"
   ]
  },
  {
   "cell_type": "code",
   "execution_count": 2,
   "metadata": {},
   "outputs": [],
   "source": [
    "book_1 = check_number(2546)\n",
    "book_2 = check_genre('humanities')\n",
    "book_3 = check_genre('hum')"
   ]
  },
  {
   "cell_type": "code",
   "execution_count": 3,
   "metadata": {},
   "outputs": [
    {
     "name": "stdout",
     "output_type": "stream",
     "text": [
      "The Origin of the Modern World, written by Robert Marks, is 22.42 $\n",
      "Fundamentals of Physics, written by R. Shankar, is 18.66 $\n",
      "Understanding Film Theory, written by Ruth Doughty, is 37.99 $\n"
     ]
    }
   ],
   "source": [
    "my_book_1 = MyBook('The Origin of the Modern World', 'Robert Marks', 'humanities', 22.42)\n",
    "my_book_2 = MyBook('Fundamentals of Physics', 'R. Shankar', 'science', 18.66)\n",
    "my_book_3 = MyBook('Understanding Film Theory', 'Ruth Doughty', 'art', 37.99)\n",
    "\n",
    "my_book_1.print_receipt('The Origin of the Modern World', 'Robert Marks', 22.42)\n",
    "my_book_2.print_receipt('Fundamentals of Physics', 'R. Shankar', 18.66)\n",
    "my_book_3.print_receipt('Understanding Film Theory', 'Ruth Doughty', 37.99)"
   ]
  },
  {
   "cell_type": "code",
   "execution_count": 4,
   "metadata": {},
   "outputs": [],
   "source": [
    "gift_card = my_book_3.check_giftcard('art', 37.99)"
   ]
  },
  {
   "cell_type": "code",
   "execution_count": 5,
   "metadata": {},
   "outputs": [],
   "source": [
    "price_1 = check_price([22.42, 18.66, 37.99])\n",
    "price_2 = check_price([22.42, 18.66, 37.99, 103.56])"
   ]
  },
  {
   "cell_type": "code",
   "execution_count": 6,
   "metadata": {},
   "outputs": [
    {
     "name": "stdout",
     "output_type": "stream",
     "text": [
      "The book is on the right side on the first floor.\n",
      "The book is on the green shelves.\n",
      "The book is on the green shelves.\n",
      "You can get a gift card!\n",
      "79.07\n",
      "164.367\n"
     ]
    }
   ],
   "source": [
    "print(book_1)\n",
    "print(book_2)\n",
    "print(book_3)\n",
    "\n",
    "print(gift_card)\n",
    "\n",
    "print(price_1)\n",
    "print(price_2)"
   ]
  }
 ],
 "metadata": {
  "kernelspec": {
   "display_name": "Python 3",
   "language": "python",
   "name": "python3"
  },
  "language_info": {
   "codemirror_mode": {
    "name": "ipython",
    "version": 3
   },
   "file_extension": ".py",
   "mimetype": "text/x-python",
   "name": "python",
   "nbconvert_exporter": "python",
   "pygments_lexer": "ipython3",
   "version": "3.6.7"
  }
 },
 "nbformat": 4,
 "nbformat_minor": 2
}
